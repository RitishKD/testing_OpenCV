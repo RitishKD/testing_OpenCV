{
 "cells": [
  {
   "cell_type": "code",
   "execution_count": 35,
   "id": "fd5121e7",
   "metadata": {},
   "outputs": [],
   "source": [
    "from keras.preprocessing.image import ImageDataGenerator\n",
    "from keras.models import Sequential\n",
    "from keras.layers import Conv2D, MaxPooling2D\n",
    "from keras.layers import Activation, Dropout, Flatten, Dense\n",
    "from keras import backend as K"
   ]
  },
  {
   "cell_type": "code",
   "execution_count": 36,
   "id": "5ee1509b",
   "metadata": {},
   "outputs": [],
   "source": [
    "img_width, img_height = 150, 150\n",
    "\n",
    "train_data_dir = r\"C:/Users/kunal.bharti/Documents/OpenCV/pet_images/train\"\n",
    "validation_data_dir = r\"C:/Users/kunal.bharti/Documents/OpenCV/pet_images/validation\"\n",
    "nb_train_samples = 2000\n",
    "nb_validation_samples = 800\n",
    "epochs = 20\n",
    "batch_size = 16"
   ]
  },
  {
   "cell_type": "code",
   "execution_count": 37,
   "id": "929a7121",
   "metadata": {},
   "outputs": [],
   "source": [
    "if K.image_data_format() == 'channels_first':\n",
    "    input_shape = (3, img_width, img_height)\n",
    "else:\n",
    "    input_shape = (img_width, img_height, 3)"
   ]
  },
  {
   "cell_type": "code",
   "execution_count": 38,
   "id": "5d85a907",
   "metadata": {},
   "outputs": [],
   "source": [
    "model = tf.keras.Sequential()\n",
    "model.add(Conv2D(32, (3, 3), input_shape=(150, 150, 3)))\n",
    "model.add(Activation('relu'))\n",
    "model.add(MaxPooling2D((2,2), strides=(2,2), padding='same'))\n",
    "\n",
    "model.add(Conv2D(32, (3, 3)))\n",
    "model.add(Activation('relu'))\n",
    "model.add(MaxPooling2D((2,2), strides=(2,2), padding='same'))\n",
    "\n",
    "model.add(Conv2D(64, (3, 3)))\n",
    "model.add(Activation('relu'))\n",
    "model.add(MaxPooling2D((2,2), strides=(2,2), padding='same'))\n",
    "\n",
    "model.add(Flatten())  # this converts our 3D feature maps to 1D feature vectors\n",
    "model.add(Dense(64))\n",
    "model.add(Activation('relu'))\n",
    "model.add(Dropout(0.5))\n",
    "model.add(Dense(1))\n",
    "model.add(Activation('sigmoid'))\n",
    "\n",
    "model.compile(loss='binary_crossentropy',\n",
    "              optimizer='rmsprop',\n",
    "              metrics=['accuracy'])"
   ]
  },
  {
   "cell_type": "code",
   "execution_count": 39,
   "id": "158d0639",
   "metadata": {},
   "outputs": [],
   "source": [
    "train_datagen = ImageDataGenerator(\n",
    "    rescale=1. / 255,\n",
    "    shear_range=0.2,\n",
    "    zoom_range=0.2,\n",
    "    horizontal_flip=True)"
   ]
  },
  {
   "cell_type": "code",
   "execution_count": 40,
   "id": "66a38fff",
   "metadata": {},
   "outputs": [
    {
     "name": "stdout",
     "output_type": "stream",
     "text": [
      "Found 2000 images belonging to 2 classes.\n",
      "Found 800 images belonging to 2 classes.\n"
     ]
    }
   ],
   "source": [
    "test_datagen = ImageDataGenerator(rescale=1. / 255)\n",
    "\n",
    "train_generator = train_datagen.flow_from_directory(\n",
    "    train_data_dir,\n",
    "    target_size=(img_width, img_height),\n",
    "    batch_size=batch_size,\n",
    "    class_mode='binary')\n",
    "\n",
    "validation_generator = test_datagen.flow_from_directory(\n",
    "    validation_data_dir,\n",
    "    target_size=(img_width, img_height),\n",
    "    batch_size=batch_size,\n",
    "    class_mode='binary')"
   ]
  },
  {
   "cell_type": "code",
   "execution_count": 41,
   "id": "be5bb1f5",
   "metadata": {},
   "outputs": [
    {
     "name": "stderr",
     "output_type": "stream",
     "text": [
      "C:\\Users\\kunal.bharti\\AppData\\Local\\Temp\\ipykernel_2608\\818546861.py:1: UserWarning: `Model.fit_generator` is deprecated and will be removed in a future version. Please use `Model.fit`, which supports generators.\n",
      "  history = model.fit_generator(\n"
     ]
    },
    {
     "name": "stdout",
     "output_type": "stream",
     "text": [
      "Epoch 1/20\n",
      "125/125 [==============================] - 33s 254ms/step - loss: 0.7004 - accuracy: 0.5145 - val_loss: 0.6772 - val_accuracy: 0.5700\n",
      "Epoch 2/20\n",
      "125/125 [==============================] - 32s 254ms/step - loss: 0.6794 - accuracy: 0.5755 - val_loss: 0.6379 - val_accuracy: 0.6050\n",
      "Epoch 3/20\n",
      "125/125 [==============================] - 31s 246ms/step - loss: 0.6541 - accuracy: 0.6510 - val_loss: 0.6195 - val_accuracy: 0.6513\n",
      "Epoch 4/20\n",
      "125/125 [==============================] - 31s 244ms/step - loss: 0.6113 - accuracy: 0.6660 - val_loss: 0.5807 - val_accuracy: 0.6875\n",
      "Epoch 5/20\n",
      "125/125 [==============================] - 31s 247ms/step - loss: 0.5937 - accuracy: 0.6965 - val_loss: 0.6162 - val_accuracy: 0.6400\n",
      "Epoch 6/20\n",
      "125/125 [==============================] - 31s 249ms/step - loss: 0.5823 - accuracy: 0.6980 - val_loss: 0.5533 - val_accuracy: 0.7013\n",
      "Epoch 7/20\n",
      "125/125 [==============================] - 32s 256ms/step - loss: 0.5648 - accuracy: 0.7140 - val_loss: 0.5285 - val_accuracy: 0.7300\n",
      "Epoch 8/20\n",
      "125/125 [==============================] - 32s 252ms/step - loss: 0.5515 - accuracy: 0.7380 - val_loss: 0.6784 - val_accuracy: 0.6925\n",
      "Epoch 9/20\n",
      "125/125 [==============================] - 31s 245ms/step - loss: 0.5460 - accuracy: 0.7355 - val_loss: 0.5532 - val_accuracy: 0.7200\n",
      "Epoch 10/20\n",
      "125/125 [==============================] - 31s 247ms/step - loss: 0.5142 - accuracy: 0.7515 - val_loss: 0.5358 - val_accuracy: 0.7375\n",
      "Epoch 11/20\n",
      "125/125 [==============================] - 31s 249ms/step - loss: 0.5213 - accuracy: 0.7550 - val_loss: 0.5302 - val_accuracy: 0.7475\n",
      "Epoch 12/20\n",
      "125/125 [==============================] - 33s 260ms/step - loss: 0.5034 - accuracy: 0.7575 - val_loss: 0.5072 - val_accuracy: 0.7613\n",
      "Epoch 13/20\n",
      "125/125 [==============================] - 32s 257ms/step - loss: 0.5020 - accuracy: 0.7690 - val_loss: 0.5165 - val_accuracy: 0.7437\n",
      "Epoch 14/20\n",
      "125/125 [==============================] - 32s 252ms/step - loss: 0.4936 - accuracy: 0.7695 - val_loss: 0.5103 - val_accuracy: 0.7625\n",
      "Epoch 15/20\n",
      "125/125 [==============================] - 31s 248ms/step - loss: 0.4947 - accuracy: 0.7845 - val_loss: 0.4783 - val_accuracy: 0.7700\n",
      "Epoch 16/20\n",
      "125/125 [==============================] - 31s 249ms/step - loss: 0.4759 - accuracy: 0.7815 - val_loss: 0.5047 - val_accuracy: 0.7825\n",
      "Epoch 17/20\n",
      "125/125 [==============================] - 31s 247ms/step - loss: 0.4810 - accuracy: 0.7745 - val_loss: 0.4724 - val_accuracy: 0.7700\n",
      "Epoch 18/20\n",
      "125/125 [==============================] - 31s 246ms/step - loss: 0.4741 - accuracy: 0.7865 - val_loss: 0.4586 - val_accuracy: 0.7775\n",
      "Epoch 19/20\n",
      "125/125 [==============================] - 31s 245ms/step - loss: 0.4798 - accuracy: 0.7725 - val_loss: 0.5169 - val_accuracy: 0.7538\n",
      "Epoch 20/20\n",
      "125/125 [==============================] - 31s 247ms/step - loss: 0.4466 - accuracy: 0.7970 - val_loss: 0.4812 - val_accuracy: 0.7900\n"
     ]
    }
   ],
   "source": [
    "history = model.fit_generator(\n",
    "    train_generator,\n",
    "    steps_per_epoch=nb_train_samples // batch_size,\n",
    "    epochs=epochs,\n",
    "    validation_data=validation_generator,\n",
    "    validation_steps=nb_validation_samples // batch_size)"
   ]
  },
  {
   "cell_type": "code",
   "execution_count": 42,
   "id": "e0a8267c",
   "metadata": {},
   "outputs": [],
   "source": [
    "model.save_weights('first_try.h5')"
   ]
  },
  {
   "cell_type": "code",
   "execution_count": 43,
   "id": "9a56c6e9",
   "metadata": {},
   "outputs": [
    {
     "name": "stdout",
     "output_type": "stream",
     "text": [
      "1/1 [==============================] - 0s 91ms/step\n",
      "[[1.]]\n"
     ]
    }
   ],
   "source": [
    "# predicting images\n",
    "import numpy as np\n",
    "import keras\n",
    "from keras.models import load_model\n",
    "from keras.preprocessing import image\n",
    "img = keras.utils.load_img(\"C:/Users/kunal.bharti/Documents/OpenCV/pet_images_uncorrupted/Dog/1402.jpg\", target_size=(150, 150))\n",
    "x = keras.utils.img_to_array(img)\n",
    "x = np.expand_dims(x, axis=0)\n",
    "\n",
    "images = np.vstack([x])\n",
    "classes = model.predict(images)\n",
    "print (classes)\n",
    "# predict_x=model.predict(x) \n",
    "# classes_x=np.argmax(images,axis=1)\n",
    "# print (predict_x)"
   ]
  },
  {
   "cell_type": "code",
   "execution_count": 45,
   "id": "cc618734",
   "metadata": {},
   "outputs": [
    {
     "data": {
      "image/png": "[encoded data removed]",
      "text/plain": [
       "<Figure size 432x288 with 1 Axes>"
      ]
     },
     "metadata": {
      "needs_background": "light"
     },
     "output_type": "display_data"
    }
   ],
   "source": [
    "from matplotlib import pyplot as plt\n",
    "# history = model.fit(train_x, train_y,validation_split = 0.1, epochs=50, batch_size=4)\n",
    "plt.plot(history.history['accuracy'])\n",
    "plt.plot(history.history['val_accuracy'])\n",
    "plt.title('model accuracy')\n",
    "plt.ylabel('accuracy')\n",
    "plt.xlabel('epoch')\n",
    "plt.legend(['train', 'val'], loc='upper left')\n",
    "plt.show()"
   ]
  },
  {
   "cell_type": "code",
   "execution_count": 46,
   "id": "5a920eec",
   "metadata": {},
   "outputs": [
    {
     "data": {
      "image/png": "[encoded data removed]",
      "text/plain": [
       "<Figure size 432x288 with 1 Axes>"
      ]
     },
     "metadata": {
      "needs_background": "light"
     },
     "output_type": "display_data"
    }
   ],
   "source": [
    "plt.plot(history.history['loss'])\n",
    "plt.plot(history.history['val_loss'])\n",
    "plt.title('model loss')\n",
    "plt.ylabel('loss')\n",
    "plt.xlabel('epoch')\n",
    "plt.legend(['train', 'val'], loc='upper left')\n",
    "plt.show()"
   ]
  },
  {
   "cell_type": "code",
   "execution_count": null,
   "id": "732d55fe",
   "metadata": {},
   "outputs": [],
   "source": []
  },
  {
   "cell_type": "code",
   "execution_count": null,
   "id": "bdc6306a",
   "metadata": {},
   "outputs": [],
   "source": []
  },
  {
   "cell_type": "code",
   "execution_count": null,
   "id": "faa853f3",
   "metadata": {},
   "outputs": [],
   "source": []
  },
  {
   "cell_type": "code",
   "execution_count": null,
   "id": "b824116e",
   "metadata": {},
   "outputs": [],
   "source": []
  }
 ],
 "metadata": {
  "kernelspec": {
   "display_name": "Python 3 (ipykernel)",
   "language": "python",
   "name": "python3"
  },
  "language_info": {
   "codemirror_mode": {
    "name": "ipython",
    "version": 3
   },
   "file_extension": ".py",
   "mimetype": "text/x-python",
   "name": "python",
   "nbconvert_exporter": "python",
   "pygments_lexer": "ipython3",
   "version": "3.9.12"
  }
 },
 "nbformat": 4,
 "nbformat_minor": 5
}
